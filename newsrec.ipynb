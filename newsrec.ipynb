{
 "cells": [
  {
   "cell_type": "code",
   "execution_count": 2,
   "metadata": {},
   "outputs": [
    {
     "name": "stdout",
     "output_type": "stream",
     "text": [
      "Requirement already satisfied: ktrain==0.26.2 in c:\\users\\jyoti\\appdata\\local\\programs\\python\\python37\\lib\\site-packages (0.26.2)\n",
      "Requirement already satisfied: scikit-learn==0.23.2 in c:\\users\\jyoti\\appdata\\local\\programs\\python\\python37\\lib\\site-packages (from ktrain==0.26.2) (0.23.2)\n",
      "Requirement already satisfied: matplotlib>=3.0.0 in c:\\users\\jyoti\\appdata\\local\\programs\\python\\python37\\lib\\site-packages (from ktrain==0.26.2) (3.5.1)\n",
      "Requirement already satisfied: pandas>=1.0.1 in c:\\users\\jyoti\\appdata\\local\\programs\\python\\python37\\lib\\site-packages (from ktrain==0.26.2) (1.3.5)\n",
      "Requirement already satisfied: fastprogress>=0.1.21 in c:\\users\\jyoti\\appdata\\local\\programs\\python\\python37\\lib\\site-packages (from ktrain==0.26.2) (1.0.2)\n",
      "Requirement already satisfied: requests in c:\\users\\jyoti\\appdata\\local\\programs\\python\\python37\\lib\\site-packages (from ktrain==0.26.2) (2.27.1)\n",
      "Requirement already satisfied: joblib in c:\\users\\jyoti\\appdata\\local\\programs\\python\\python37\\lib\\site-packages (from ktrain==0.26.2) (1.1.0)\n",
      "Requirement already satisfied: packaging in c:\\users\\jyoti\\appdata\\local\\programs\\python\\python37\\lib\\site-packages (from ktrain==0.26.2) (21.3)\n",
      "Requirement already satisfied: ipython in c:\\users\\jyoti\\appdata\\local\\programs\\python\\python37\\lib\\site-packages (from ktrain==0.26.2) (7.32.0)\n",
      "Requirement already satisfied: langdetect in c:\\users\\jyoti\\appdata\\local\\programs\\python\\python37\\lib\\site-packages (from ktrain==0.26.2) (1.0.9)\n",
      "Requirement already satisfied: jieba in c:\\users\\jyoti\\appdata\\local\\programs\\python\\python37\\lib\\site-packages (from ktrain==0.26.2) (0.42.1)\n",
      "Requirement already satisfied: cchardet in c:\\users\\jyoti\\appdata\\local\\programs\\python\\python37\\lib\\site-packages (from ktrain==0.26.2) (2.1.7)\n",
      "Requirement already satisfied: syntok in c:\\users\\jyoti\\appdata\\local\\programs\\python\\python37\\lib\\site-packages (from ktrain==0.26.2) (1.4.4)\n",
      "Requirement already satisfied: seqeval==0.0.19 in c:\\users\\jyoti\\appdata\\local\\programs\\python\\python37\\lib\\site-packages (from ktrain==0.26.2) (0.0.19)\n",
      "Requirement already satisfied: transformers<=4.3.3,>=4.0.0 in c:\\users\\jyoti\\appdata\\local\\programs\\python\\python37\\lib\\site-packages (from ktrain==0.26.2) (4.3.3)\n",
      "Requirement already satisfied: sentencepiece in c:\\users\\jyoti\\appdata\\local\\programs\\python\\python37\\lib\\site-packages (from ktrain==0.26.2) (0.1.96)\n",
      "Requirement already satisfied: keras_bert>=0.86.0 in c:\\users\\jyoti\\appdata\\local\\programs\\python\\python37\\lib\\site-packages (from ktrain==0.26.2) (0.89.0)\n",
      "Requirement already satisfied: networkx>=2.3 in c:\\users\\jyoti\\appdata\\local\\programs\\python\\python37\\lib\\site-packages (from ktrain==0.26.2) (2.6.3)\n",
      "Requirement already satisfied: whoosh in c:\\users\\jyoti\\appdata\\local\\programs\\python\\python37\\lib\\site-packages (from ktrain==0.26.2) (2.7.4)\n",
      "Requirement already satisfied: scipy>=0.19.1 in c:\\users\\jyoti\\appdata\\local\\programs\\python\\python37\\lib\\site-packages (from scikit-learn==0.23.2->ktrain==0.26.2) (1.7.3)\n",
      "Requirement already satisfied: threadpoolctl>=2.0.0 in c:\\users\\jyoti\\appdata\\local\\programs\\python\\python37\\lib\\site-packages (from scikit-learn==0.23.2->ktrain==0.26.2) (3.1.0)\n",
      "Requirement already satisfied: numpy>=1.13.3 in c:\\users\\jyoti\\appdata\\local\\programs\\python\\python37\\lib\\site-packages (from scikit-learn==0.23.2->ktrain==0.26.2) (1.21.5)\n",
      "Requirement already satisfied: Keras>=2.2.4 in c:\\users\\jyoti\\appdata\\local\\programs\\python\\python37\\lib\\site-packages (from seqeval==0.0.19->ktrain==0.26.2) (2.8.0)\n",
      "Requirement already satisfied: keras-transformer==0.40.0 in c:\\users\\jyoti\\appdata\\local\\programs\\python\\python37\\lib\\site-packages (from keras_bert>=0.86.0->ktrain==0.26.2) (0.40.0)\n",
      "Requirement already satisfied: keras-pos-embd==0.13.0 in c:\\users\\jyoti\\appdata\\local\\programs\\python\\python37\\lib\\site-packages (from keras-transformer==0.40.0->keras_bert>=0.86.0->ktrain==0.26.2) (0.13.0)\n",
      "Requirement already satisfied: keras-multi-head==0.29.0 in c:\\users\\jyoti\\appdata\\local\\programs\\python\\python37\\lib\\site-packages (from keras-transformer==0.40.0->keras_bert>=0.86.0->ktrain==0.26.2) (0.29.0)\n",
      "Requirement already satisfied: keras-layer-normalization==0.16.0 in c:\\users\\jyoti\\appdata\\local\\programs\\python\\python37\\lib\\site-packages (from keras-transformer==0.40.0->keras_bert>=0.86.0->ktrain==0.26.2) (0.16.0)\n",
      "Requirement already satisfied: keras-position-wise-feed-forward==0.8.0 in c:\\users\\jyoti\\appdata\\local\\programs\\python\\python37\\lib\\site-packages (from keras-transformer==0.40.0->keras_bert>=0.86.0->ktrain==0.26.2) (0.8.0)\n",
      "Requirement already satisfied: keras-embed-sim==0.10.0 in c:\\users\\jyoti\\appdata\\local\\programs\\python\\python37\\lib\\site-packages (from keras-transformer==0.40.0->keras_bert>=0.86.0->ktrain==0.26.2) (0.10.0)\n",
      "Requirement already satisfied: keras-self-attention==0.51.0 in c:\\users\\jyoti\\appdata\\local\\programs\\python\\python37\\lib\\site-packages (from keras-multi-head==0.29.0->keras-transformer==0.40.0->keras_bert>=0.86.0->ktrain==0.26.2) (0.51.0)\n",
      "Requirement already satisfied: fonttools>=4.22.0 in c:\\users\\jyoti\\appdata\\local\\programs\\python\\python37\\lib\\site-packages (from matplotlib>=3.0.0->ktrain==0.26.2) (4.32.0)\n",
      "Requirement already satisfied: cycler>=0.10 in c:\\users\\jyoti\\appdata\\local\\programs\\python\\python37\\lib\\site-packages (from matplotlib>=3.0.0->ktrain==0.26.2) (0.11.0)\n",
      "Requirement already satisfied: pyparsing>=2.2.1 in c:\\users\\jyoti\\appdata\\local\\programs\\python\\python37\\lib\\site-packages (from matplotlib>=3.0.0->ktrain==0.26.2) (3.0.8)\n",
      "Requirement already satisfied: python-dateutil>=2.7 in c:\\users\\jyoti\\appdata\\local\\programs\\python\\python37\\lib\\site-packages (from matplotlib>=3.0.0->ktrain==0.26.2) (2.8.2)\n",
      "Requirement already satisfied: pillow>=6.2.0 in c:\\users\\jyoti\\appdata\\local\\programs\\python\\python37\\lib\\site-packages (from matplotlib>=3.0.0->ktrain==0.26.2) (9.1.0)\n",
      "Requirement already satisfied: kiwisolver>=1.0.1 in c:\\users\\jyoti\\appdata\\local\\programs\\python\\python37\\lib\\site-packages (from matplotlib>=3.0.0->ktrain==0.26.2) (1.4.2)\n",
      "Requirement already satisfied: pytz>=2017.3 in c:\\users\\jyoti\\appdata\\local\\programs\\python\\python37\\lib\\site-packages (from pandas>=1.0.1->ktrain==0.26.2) (2022.1)\n",
      "Requirement already satisfied: importlib-metadata in c:\\users\\jyoti\\appdata\\local\\programs\\python\\python37\\lib\\site-packages (from transformers<=4.3.3,>=4.0.0->ktrain==0.26.2) (4.11.3)\n",
      "Requirement already satisfied: tokenizers<0.11,>=0.10.1 in c:\\users\\jyoti\\appdata\\local\\programs\\python\\python37\\lib\\site-packages (from transformers<=4.3.3,>=4.0.0->ktrain==0.26.2) (0.10.3)\n",
      "Requirement already satisfied: filelock in c:\\users\\jyoti\\appdata\\local\\programs\\python\\python37\\lib\\site-packages (from transformers<=4.3.3,>=4.0.0->ktrain==0.26.2) (3.6.0)\n",
      "Requirement already satisfied: sacremoses in c:\\users\\jyoti\\appdata\\local\\programs\\python\\python37\\lib\\site-packages (from transformers<=4.3.3,>=4.0.0->ktrain==0.26.2) (0.0.49)\n",
      "Requirement already satisfied: tqdm>=4.27 in c:\\users\\jyoti\\appdata\\local\\programs\\python\\python37\\lib\\site-packages (from transformers<=4.3.3,>=4.0.0->ktrain==0.26.2) (4.64.0)\n",
      "Requirement already satisfied: regex!=2019.12.17 in c:\\users\\jyoti\\appdata\\local\\programs\\python\\python37\\lib\\site-packages (from transformers<=4.3.3,>=4.0.0->ktrain==0.26.2) (2022.3.15)\n",
      "Requirement already satisfied: setuptools>=18.5 in c:\\users\\jyoti\\appdata\\local\\programs\\python\\python37\\lib\\site-packages (from ipython->ktrain==0.26.2) (47.1.0)\n",
      "Requirement already satisfied: colorama in c:\\users\\jyoti\\appdata\\local\\programs\\python\\python37\\lib\\site-packages (from ipython->ktrain==0.26.2) (0.4.4)\n",
      "Requirement already satisfied: pickleshare in c:\\users\\jyoti\\appdata\\local\\programs\\python\\python37\\lib\\site-packages (from ipython->ktrain==0.26.2) (0.7.5)\n",
      "Requirement already satisfied: traitlets>=4.2 in c:\\users\\jyoti\\appdata\\local\\programs\\python\\python37\\lib\\site-packages (from ipython->ktrain==0.26.2) (5.1.1)\n",
      "Requirement already satisfied: backcall in c:\\users\\jyoti\\appdata\\local\\programs\\python\\python37\\lib\\site-packages (from ipython->ktrain==0.26.2) (0.2.0)\n",
      "Requirement already satisfied: decorator in c:\\users\\jyoti\\appdata\\local\\programs\\python\\python37\\lib\\site-packages (from ipython->ktrain==0.26.2) (5.1.1)\n",
      "Requirement already satisfied: pygments in c:\\users\\jyoti\\appdata\\local\\programs\\python\\python37\\lib\\site-packages (from ipython->ktrain==0.26.2) (2.11.2)\n",
      "Requirement already satisfied: jedi>=0.16 in c:\\users\\jyoti\\appdata\\local\\programs\\python\\python37\\lib\\site-packages (from ipython->ktrain==0.26.2) (0.18.1)\n",
      "Requirement already satisfied: prompt-toolkit!=3.0.0,!=3.0.1,<3.1.0,>=2.0.0 in c:\\users\\jyoti\\appdata\\local\\programs\\python\\python37\\lib\\site-packages (from ipython->ktrain==0.26.2) (3.0.28)\n",
      "Requirement already satisfied: matplotlib-inline in c:\\users\\jyoti\\appdata\\local\\programs\\python\\python37\\lib\\site-packages (from ipython->ktrain==0.26.2) (0.1.3)\n",
      "Requirement already satisfied: six in c:\\users\\jyoti\\appdata\\local\\programs\\python\\python37\\lib\\site-packages (from langdetect->ktrain==0.26.2) (1.16.0)\n",
      "Requirement already satisfied: urllib3<1.27,>=1.21.1 in c:\\users\\jyoti\\appdata\\local\\programs\\python\\python37\\lib\\site-packages (from requests->ktrain==0.26.2) (1.26.9)\n",
      "Requirement already satisfied: idna<4,>=2.5 in c:\\users\\jyoti\\appdata\\local\\programs\\python\\python37\\lib\\site-packages (from requests->ktrain==0.26.2) (3.3)\n",
      "Requirement already satisfied: certifi>=2017.4.17 in c:\\users\\jyoti\\appdata\\local\\programs\\python\\python37\\lib\\site-packages (from requests->ktrain==0.26.2) (2021.10.8)\n",
      "Requirement already satisfied: charset-normalizer~=2.0.0 in c:\\users\\jyoti\\appdata\\local\\programs\\python\\python37\\lib\\site-packages (from requests->ktrain==0.26.2) (2.0.12)\n",
      "Requirement already satisfied: parso<0.9.0,>=0.8.0 in c:\\users\\jyoti\\appdata\\local\\programs\\python\\python37\\lib\\site-packages (from jedi>=0.16->ipython->ktrain==0.26.2) (0.8.3)\n",
      "Requirement already satisfied: typing-extensions in c:\\users\\jyoti\\appdata\\local\\programs\\python\\python37\\lib\\site-packages (from kiwisolver>=1.0.1->matplotlib>=3.0.0->ktrain==0.26.2) (4.1.1)\n",
      "Requirement already satisfied: wcwidth in c:\\users\\jyoti\\appdata\\local\\programs\\python\\python37\\lib\\site-packages (from prompt-toolkit!=3.0.0,!=3.0.1,<3.1.0,>=2.0.0->ipython->ktrain==0.26.2) (0.2.5)\n",
      "Requirement already satisfied: zipp>=0.5 in c:\\users\\jyoti\\appdata\\local\\programs\\python\\python37\\lib\\site-packages (from importlib-metadata->transformers<=4.3.3,>=4.0.0->ktrain==0.26.2) (3.7.0)\n",
      "Requirement already satisfied: click in c:\\users\\jyoti\\appdata\\local\\programs\\python\\python37\\lib\\site-packages (from sacremoses->transformers<=4.3.3,>=4.0.0->ktrain==0.26.2) (8.0.4)\n"
     ]
    }
   ],
   "source": [
    "!pip install ktrain==0.26.2"
   ]
  },
  {
   "cell_type": "code",
   "execution_count": 3,
   "metadata": {},
   "outputs": [
    {
     "ename": "Exception",
     "evalue": "ktrain requires TensorFlow 2 to be installed: pip install tensorflow",
     "output_type": "error",
     "traceback": [
      "\u001b[1;31m---------------------------------------------------------------------------\u001b[0m",
      "\u001b[1;31mImportError\u001b[0m                               Traceback (most recent call last)",
      "\u001b[1;32m~\\AppData\\Local\\Programs\\Python\\Python37\\lib\\site-packages\\tensorflow\\python\\pywrap_tensorflow.py\u001b[0m in \u001b[0;36mswig_import_helper\u001b[1;34m()\u001b[0m\n\u001b[0;32m     17\u001b[0m         \u001b[1;32mtry\u001b[0m\u001b[1;33m:\u001b[0m\u001b[1;33m\u001b[0m\u001b[1;33m\u001b[0m\u001b[0m\n\u001b[1;32m---> 18\u001b[1;33m             \u001b[0mfp\u001b[0m\u001b[1;33m,\u001b[0m \u001b[0mpathname\u001b[0m\u001b[1;33m,\u001b[0m \u001b[0mdescription\u001b[0m \u001b[1;33m=\u001b[0m \u001b[0mimp\u001b[0m\u001b[1;33m.\u001b[0m\u001b[0mfind_module\u001b[0m\u001b[1;33m(\u001b[0m\u001b[1;34m'_pywrap_tensorflow'\u001b[0m\u001b[1;33m,\u001b[0m \u001b[1;33m[\u001b[0m\u001b[0mdirname\u001b[0m\u001b[1;33m(\u001b[0m\u001b[0m__file__\u001b[0m\u001b[1;33m)\u001b[0m\u001b[1;33m]\u001b[0m\u001b[1;33m)\u001b[0m\u001b[1;33m\u001b[0m\u001b[1;33m\u001b[0m\u001b[0m\n\u001b[0m\u001b[0;32m     19\u001b[0m         \u001b[1;32mexcept\u001b[0m \u001b[0mImportError\u001b[0m\u001b[1;33m:\u001b[0m\u001b[1;33m\u001b[0m\u001b[1;33m\u001b[0m\u001b[0m\n",
      "\u001b[1;32m~\\AppData\\Local\\Programs\\Python\\Python37\\lib\\imp.py\u001b[0m in \u001b[0;36mfind_module\u001b[1;34m(name, path)\u001b[0m\n\u001b[0;32m    295\u001b[0m     \u001b[1;32melse\u001b[0m\u001b[1;33m:\u001b[0m\u001b[1;33m\u001b[0m\u001b[1;33m\u001b[0m\u001b[0m\n\u001b[1;32m--> 296\u001b[1;33m         \u001b[1;32mraise\u001b[0m \u001b[0mImportError\u001b[0m\u001b[1;33m(\u001b[0m\u001b[0m_ERR_MSG\u001b[0m\u001b[1;33m.\u001b[0m\u001b[0mformat\u001b[0m\u001b[1;33m(\u001b[0m\u001b[0mname\u001b[0m\u001b[1;33m)\u001b[0m\u001b[1;33m,\u001b[0m \u001b[0mname\u001b[0m\u001b[1;33m=\u001b[0m\u001b[0mname\u001b[0m\u001b[1;33m)\u001b[0m\u001b[1;33m\u001b[0m\u001b[1;33m\u001b[0m\u001b[0m\n\u001b[0m\u001b[0;32m    297\u001b[0m \u001b[1;33m\u001b[0m\u001b[0m\n",
      "\u001b[1;31mImportError\u001b[0m: No module named '_pywrap_tensorflow'",
      "\nDuring handling of the above exception, another exception occurred:\n",
      "\u001b[1;31mModuleNotFoundError\u001b[0m                       Traceback (most recent call last)",
      "\u001b[1;32m~\\AppData\\Local\\Programs\\Python\\Python37\\lib\\site-packages\\tensorflow\\python\\__init__.py\u001b[0m in \u001b[0;36m<module>\u001b[1;34m\u001b[0m\n\u001b[0;32m     65\u001b[0m     \u001b[1;31m# use `dlopen()` for dynamic loading.\u001b[0m\u001b[1;33m\u001b[0m\u001b[1;33m\u001b[0m\u001b[1;33m\u001b[0m\u001b[0m\n\u001b[1;32m---> 66\u001b[1;33m     \u001b[1;32mfrom\u001b[0m \u001b[0mtensorflow\u001b[0m\u001b[1;33m.\u001b[0m\u001b[0mpython\u001b[0m \u001b[1;32mimport\u001b[0m \u001b[0mpywrap_tensorflow\u001b[0m\u001b[1;33m\u001b[0m\u001b[1;33m\u001b[0m\u001b[0m\n\u001b[0m\u001b[0;32m     67\u001b[0m \u001b[1;32mexcept\u001b[0m \u001b[0mImportError\u001b[0m\u001b[1;33m:\u001b[0m\u001b[1;33m\u001b[0m\u001b[1;33m\u001b[0m\u001b[0m\n",
      "\u001b[1;32m~\\AppData\\Local\\Programs\\Python\\Python37\\lib\\site-packages\\tensorflow\\python\\pywrap_tensorflow.py\u001b[0m in \u001b[0;36m<module>\u001b[1;34m\u001b[0m\n\u001b[0;32m     27\u001b[0m             \u001b[1;32mreturn\u001b[0m \u001b[0m_mod\u001b[0m\u001b[1;33m\u001b[0m\u001b[1;33m\u001b[0m\u001b[0m\n\u001b[1;32m---> 28\u001b[1;33m     \u001b[0m_pywrap_tensorflow\u001b[0m \u001b[1;33m=\u001b[0m \u001b[0mswig_import_helper\u001b[0m\u001b[1;33m(\u001b[0m\u001b[1;33m)\u001b[0m\u001b[1;33m\u001b[0m\u001b[1;33m\u001b[0m\u001b[0m\n\u001b[0m\u001b[0;32m     29\u001b[0m     \u001b[1;32mdel\u001b[0m \u001b[0mswig_import_helper\u001b[0m\u001b[1;33m\u001b[0m\u001b[1;33m\u001b[0m\u001b[0m\n",
      "\u001b[1;32m~\\AppData\\Local\\Programs\\Python\\Python37\\lib\\site-packages\\tensorflow\\python\\pywrap_tensorflow.py\u001b[0m in \u001b[0;36mswig_import_helper\u001b[1;34m()\u001b[0m\n\u001b[0;32m     19\u001b[0m         \u001b[1;32mexcept\u001b[0m \u001b[0mImportError\u001b[0m\u001b[1;33m:\u001b[0m\u001b[1;33m\u001b[0m\u001b[1;33m\u001b[0m\u001b[0m\n\u001b[1;32m---> 20\u001b[1;33m             \u001b[1;32mimport\u001b[0m \u001b[0m_pywrap_tensorflow\u001b[0m\u001b[1;33m\u001b[0m\u001b[1;33m\u001b[0m\u001b[0m\n\u001b[0m\u001b[0;32m     21\u001b[0m             \u001b[1;32mreturn\u001b[0m \u001b[0m_pywrap_tensorflow\u001b[0m\u001b[1;33m\u001b[0m\u001b[1;33m\u001b[0m\u001b[0m\n",
      "\u001b[1;31mModuleNotFoundError\u001b[0m: No module named '_pywrap_tensorflow'",
      "\nDuring handling of the above exception, another exception occurred:\n",
      "\u001b[1;31mImportError\u001b[0m                               Traceback (most recent call last)",
      "\u001b[1;32m~\\AppData\\Local\\Programs\\Python\\Python37\\lib\\site-packages\\ktrain\\imports.py\u001b[0m in \u001b[0;36m<module>\u001b[1;34m\u001b[0m\n\u001b[0;32m     31\u001b[0m     \u001b[1;32mtry\u001b[0m\u001b[1;33m:\u001b[0m\u001b[1;33m\u001b[0m\u001b[1;33m\u001b[0m\u001b[0m\n\u001b[1;32m---> 32\u001b[1;33m         \u001b[1;32mimport\u001b[0m \u001b[0mtensorflow\u001b[0m \u001b[1;32mas\u001b[0m \u001b[0mtf\u001b[0m\u001b[1;33m\u001b[0m\u001b[1;33m\u001b[0m\u001b[0m\n\u001b[0m\u001b[0;32m     33\u001b[0m     \u001b[1;32mexcept\u001b[0m \u001b[0mImportError\u001b[0m\u001b[1;33m:\u001b[0m\u001b[1;33m\u001b[0m\u001b[1;33m\u001b[0m\u001b[0m\n",
      "\u001b[1;32m~\\AppData\\Local\\Programs\\Python\\Python37\\lib\\site-packages\\tensorflow\\__init__.py\u001b[0m in \u001b[0;36m<module>\u001b[1;34m\u001b[0m\n\u001b[0;32m     23\u001b[0m \u001b[1;31m# pylint: disable=wildcard-import\u001b[0m\u001b[1;33m\u001b[0m\u001b[1;33m\u001b[0m\u001b[1;33m\u001b[0m\u001b[0m\n\u001b[1;32m---> 24\u001b[1;33m \u001b[1;32mfrom\u001b[0m \u001b[0mtensorflow\u001b[0m\u001b[1;33m.\u001b[0m\u001b[0mpython\u001b[0m \u001b[1;32mimport\u001b[0m \u001b[1;33m*\u001b[0m\u001b[1;33m\u001b[0m\u001b[1;33m\u001b[0m\u001b[0m\n\u001b[0m\u001b[0;32m     25\u001b[0m \u001b[1;31m# pylint: enable=wildcard-import\u001b[0m\u001b[1;33m\u001b[0m\u001b[1;33m\u001b[0m\u001b[1;33m\u001b[0m\u001b[0m\n",
      "\u001b[1;32m~\\AppData\\Local\\Programs\\Python\\Python37\\lib\\site-packages\\tensorflow\\python\\__init__.py\u001b[0m in \u001b[0;36m<module>\u001b[1;34m\u001b[0m\n\u001b[0;32m     71\u001b[0m above this error message when asking for help.\"\"\" % traceback.format_exc()\n\u001b[1;32m---> 72\u001b[1;33m   \u001b[1;32mraise\u001b[0m \u001b[0mImportError\u001b[0m\u001b[1;33m(\u001b[0m\u001b[0mmsg\u001b[0m\u001b[1;33m)\u001b[0m\u001b[1;33m\u001b[0m\u001b[1;33m\u001b[0m\u001b[0m\n\u001b[0m\u001b[0;32m     73\u001b[0m \u001b[1;33m\u001b[0m\u001b[0m\n",
      "\u001b[1;31mImportError\u001b[0m: Traceback (most recent call last):\n  File \"C:\\Users\\Jyoti\\AppData\\Local\\Programs\\Python\\Python37\\lib\\site-packages\\tensorflow\\python\\pywrap_tensorflow.py\", line 18, in swig_import_helper\n    fp, pathname, description = imp.find_module('_pywrap_tensorflow', [dirname(__file__)])\n  File \"C:\\Users\\Jyoti\\AppData\\Local\\Programs\\Python\\Python37\\lib\\imp.py\", line 296, in find_module\n    raise ImportError(_ERR_MSG.format(name), name=name)\nImportError: No module named '_pywrap_tensorflow'\n\nDuring handling of the above exception, another exception occurred:\n\nTraceback (most recent call last):\n  File \"C:\\Users\\Jyoti\\AppData\\Local\\Programs\\Python\\Python37\\lib\\site-packages\\tensorflow\\python\\__init__.py\", line 66, in <module>\n    from tensorflow.python import pywrap_tensorflow\n  File \"C:\\Users\\Jyoti\\AppData\\Local\\Programs\\Python\\Python37\\lib\\site-packages\\tensorflow\\python\\pywrap_tensorflow.py\", line 28, in <module>\n    _pywrap_tensorflow = swig_import_helper()\n  File \"C:\\Users\\Jyoti\\AppData\\Local\\Programs\\Python\\Python37\\lib\\site-packages\\tensorflow\\python\\pywrap_tensorflow.py\", line 20, in swig_import_helper\n    import _pywrap_tensorflow\nModuleNotFoundError: No module named '_pywrap_tensorflow'\n\n\nFailed to load the native TensorFlow runtime.\n\nSee https://github.com/tensorflow/tensorflow/blob/master/tensorflow/g3doc/get_started/os_setup.md#import_error\n\nfor some common reasons and solutions.  Include the entire stack trace\nabove this error message when asking for help.",
      "\nDuring handling of the above exception, another exception occurred:\n",
      "\u001b[1;31mException\u001b[0m                                 Traceback (most recent call last)",
      "\u001b[1;32m~\\AppData\\Local\\Temp\\ipykernel_16324\\3759908165.py\u001b[0m in \u001b[0;36m<module>\u001b[1;34m\u001b[0m\n\u001b[0;32m      2\u001b[0m \u001b[1;32mimport\u001b[0m \u001b[0mnumpy\u001b[0m \u001b[1;32mas\u001b[0m \u001b[0mnp\u001b[0m\u001b[1;33m\u001b[0m\u001b[1;33m\u001b[0m\u001b[0m\n\u001b[0;32m      3\u001b[0m \u001b[1;32mimport\u001b[0m \u001b[0mpandas\u001b[0m \u001b[1;32mas\u001b[0m \u001b[0mpd\u001b[0m\u001b[1;33m\u001b[0m\u001b[1;33m\u001b[0m\u001b[0m\n\u001b[1;32m----> 4\u001b[1;33m \u001b[1;32mimport\u001b[0m \u001b[0mktrain\u001b[0m\u001b[1;33m\u001b[0m\u001b[1;33m\u001b[0m\u001b[0m\n\u001b[0m\u001b[0;32m      5\u001b[0m \u001b[1;32mfrom\u001b[0m \u001b[0msklearn\u001b[0m\u001b[1;33m.\u001b[0m\u001b[0mdatasets\u001b[0m \u001b[1;32mimport\u001b[0m \u001b[0mfetch_20newsgroups\u001b[0m\u001b[1;33m\u001b[0m\u001b[1;33m\u001b[0m\u001b[0m\n",
      "\u001b[1;32m~\\AppData\\Local\\Programs\\Python\\Python37\\lib\\site-packages\\ktrain\\__init__.py\u001b[0m in \u001b[0;36m<module>\u001b[1;34m\u001b[0m\n\u001b[0;32m      1\u001b[0m \u001b[1;32mfrom\u001b[0m \u001b[1;33m.\u001b[0m\u001b[0mversion\u001b[0m \u001b[1;32mimport\u001b[0m \u001b[0m__version__\u001b[0m\u001b[1;33m\u001b[0m\u001b[1;33m\u001b[0m\u001b[0m\n\u001b[1;32m----> 2\u001b[1;33m \u001b[1;32mfrom\u001b[0m \u001b[1;33m.\u001b[0m \u001b[1;32mimport\u001b[0m \u001b[0mimports\u001b[0m \u001b[1;32mas\u001b[0m \u001b[0mI\u001b[0m\u001b[1;33m\u001b[0m\u001b[1;33m\u001b[0m\u001b[0m\n\u001b[0m\u001b[0;32m      3\u001b[0m \u001b[1;32mfrom\u001b[0m \u001b[1;33m.\u001b[0m\u001b[0mcore\u001b[0m \u001b[1;32mimport\u001b[0m \u001b[0mArrayLearner\u001b[0m\u001b[1;33m,\u001b[0m \u001b[0mGenLearner\u001b[0m\u001b[1;33m,\u001b[0m \u001b[0mget_predictor\u001b[0m\u001b[1;33m,\u001b[0m \u001b[0mload_predictor\u001b[0m\u001b[1;33m,\u001b[0m \u001b[0mrelease_gpu_memory\u001b[0m\u001b[1;33m\u001b[0m\u001b[1;33m\u001b[0m\u001b[0m\n\u001b[0;32m      4\u001b[0m \u001b[1;32mfrom\u001b[0m \u001b[1;33m.\u001b[0m\u001b[0mvision\u001b[0m\u001b[1;33m.\u001b[0m\u001b[0mlearner\u001b[0m \u001b[1;32mimport\u001b[0m \u001b[0mImageClassLearner\u001b[0m\u001b[1;33m\u001b[0m\u001b[1;33m\u001b[0m\u001b[0m\n\u001b[0;32m      5\u001b[0m \u001b[1;32mfrom\u001b[0m \u001b[1;33m.\u001b[0m\u001b[0mtext\u001b[0m\u001b[1;33m.\u001b[0m\u001b[0mlearner\u001b[0m \u001b[1;32mimport\u001b[0m \u001b[0mBERTTextClassLearner\u001b[0m\u001b[1;33m,\u001b[0m \u001b[0mTransformerTextClassLearner\u001b[0m\u001b[1;33m\u001b[0m\u001b[1;33m\u001b[0m\u001b[0m\n",
      "\u001b[1;32m~\\AppData\\Local\\Programs\\Python\\Python37\\lib\\site-packages\\ktrain\\imports.py\u001b[0m in \u001b[0;36m<module>\u001b[1;34m\u001b[0m\n\u001b[0;32m     32\u001b[0m         \u001b[1;32mimport\u001b[0m \u001b[0mtensorflow\u001b[0m \u001b[1;32mas\u001b[0m \u001b[0mtf\u001b[0m\u001b[1;33m\u001b[0m\u001b[1;33m\u001b[0m\u001b[0m\n\u001b[0;32m     33\u001b[0m     \u001b[1;32mexcept\u001b[0m \u001b[0mImportError\u001b[0m\u001b[1;33m:\u001b[0m\u001b[1;33m\u001b[0m\u001b[1;33m\u001b[0m\u001b[0m\n\u001b[1;32m---> 34\u001b[1;33m         \u001b[1;32mraise\u001b[0m \u001b[0mException\u001b[0m\u001b[1;33m(\u001b[0m\u001b[1;34m'ktrain requires TensorFlow 2 to be installed: pip install tensorflow'\u001b[0m\u001b[1;33m)\u001b[0m\u001b[1;33m\u001b[0m\u001b[1;33m\u001b[0m\u001b[0m\n\u001b[0m\u001b[0;32m     35\u001b[0m \u001b[1;33m\u001b[0m\u001b[0m\n\u001b[0;32m     36\u001b[0m     \u001b[1;32mfrom\u001b[0m \u001b[0mtensorflow\u001b[0m \u001b[1;32mimport\u001b[0m \u001b[0mkeras\u001b[0m\u001b[1;33m\u001b[0m\u001b[1;33m\u001b[0m\u001b[0m\n",
      "\u001b[1;31mException\u001b[0m: ktrain requires TensorFlow 2 to be installed: pip install tensorflow"
     ]
    }
   ],
   "source": [
    "import os\n",
    "import numpy as np\n",
    "import pandas as pd\n",
    "import ktrain\n",
    "from sklearn.datasets import fetch_20newsgroups"
   ]
  },
  {
   "cell_type": "code",
   "execution_count": null,
   "metadata": {},
   "outputs": [],
   "source": [
    "remove = ('headers', 'footers', 'quotes')\n",
    "train = fetch_20newsgroups(subset='train', remove=remove)\n",
    "test = fetch_20newsgroups(subset='test', remove=remove)\n",
    "\n",
    "texts = train.data + test.data"
   ]
  },
  {
   "cell_type": "code",
   "execution_count": null,
   "metadata": {},
   "outputs": [],
   "source": [
    "%%time\n",
    "tm = ktrain.text.get_topic_model(texts, n_features=10000)"
   ]
  },
  {
   "cell_type": "code",
   "execution_count": null,
   "metadata": {},
   "outputs": [],
   "source": [
    "tm.build(texts, threshold=0.25)\n"
   ]
  },
  {
   "cell_type": "code",
   "execution_count": null,
   "metadata": {},
   "outputs": [],
   "source": [
    "tm.train_recommender()\n"
   ]
  },
  {
   "cell_type": "code",
   "execution_count": null,
   "metadata": {},
   "outputs": [],
   "source": [
    "rawtext = \"\"\"\n",
    " On Monday, May 17, at 1:10 p.m. EDT, NASA astronaut Megan McArthur will answer prerecorded video questions from students across the greater Houston area coordinated by the Ismaili Council for the Southwestern United States. Participating students are from the Aldine, Alief, Fort Bend, Houston, and Stafford school districts, as well as the private Awty International, Etoile Academy, The Honor Roll, and The Village Schools. Houston Mayor Sylvester Turner will offer prerecorded opening remarks. Media interested in covering it should contact Alim Adatia at: 832-605-5296 or aadatia@gmail.com.\n",
    " \"\"\""
   ]
  },
  {
   "cell_type": "code",
   "execution_count": null,
   "metadata": {},
   "outputs": [],
   "source": [
    "tm.recommend(text=rawtext, n=5)"
   ]
  },
  {
   "cell_type": "code",
   "execution_count": null,
   "metadata": {},
   "outputs": [
    {
     "ename": "NameError",
     "evalue": "name 'tm' is not defined",
     "output_type": "error",
     "traceback": [
      "\u001b[1;31m---------------------------------------------------------------------------\u001b[0m",
      "\u001b[1;31mNameError\u001b[0m                                 Traceback (most recent call last)",
      "\u001b[1;32m~\\AppData\\Local\\Temp\\ipykernel_16324\\2795235637.py\u001b[0m in \u001b[0;36m<module>\u001b[1;34m\u001b[0m\n\u001b[1;32m----> 1\u001b[1;33m \u001b[1;32mfor\u001b[0m \u001b[0mi\u001b[0m\u001b[1;33m,\u001b[0m \u001b[0mdoc\u001b[0m \u001b[1;32min\u001b[0m \u001b[0menumerate\u001b[0m\u001b[1;33m(\u001b[0m\u001b[0mtm\u001b[0m\u001b[1;33m.\u001b[0m\u001b[0mrecommend\u001b[0m\u001b[1;33m(\u001b[0m\u001b[0mtext\u001b[0m\u001b[1;33m=\u001b[0m\u001b[0mrawtext\u001b[0m\u001b[1;33m,\u001b[0m \u001b[0mn\u001b[0m\u001b[1;33m=\u001b[0m\u001b[1;36m5\u001b[0m\u001b[1;33m)\u001b[0m\u001b[1;33m)\u001b[0m\u001b[1;33m:\u001b[0m\u001b[1;33m\u001b[0m\u001b[1;33m\u001b[0m\u001b[0m\n\u001b[0m\u001b[0;32m      2\u001b[0m   \u001b[0mprint\u001b[0m\u001b[1;33m(\u001b[0m\u001b[1;34m'Result #%s'\u001b[0m\u001b[1;33m%\u001b[0m \u001b[1;33m(\u001b[0m\u001b[0mi\u001b[0m\u001b[1;33m+\u001b[0m\u001b[1;36m1\u001b[0m\u001b[1;33m)\u001b[0m\u001b[1;33m)\u001b[0m\u001b[1;33m\u001b[0m\u001b[1;33m\u001b[0m\u001b[0m\n\u001b[0;32m      3\u001b[0m   \u001b[0mprint\u001b[0m\u001b[1;33m(\u001b[0m\u001b[1;34m'Text \\n'\u001b[0m\u001b[1;33m)\u001b[0m\u001b[1;33m\u001b[0m\u001b[1;33m\u001b[0m\u001b[0m\n\u001b[0;32m      4\u001b[0m   \u001b[0mprint\u001b[0m\u001b[1;33m(\u001b[0m\u001b[1;34m\" \"\u001b[0m\u001b[1;33m.\u001b[0m\u001b[0mjoin\u001b[0m\u001b[1;33m(\u001b[0m\u001b[0mdoc\u001b[0m\u001b[1;33m[\u001b[0m\u001b[1;34m'text'\u001b[0m\u001b[1;33m]\u001b[0m\u001b[1;33m.\u001b[0m\u001b[0msplit\u001b[0m\u001b[1;33m(\u001b[0m\u001b[1;33m)\u001b[0m\u001b[1;33m[\u001b[0m\u001b[1;33m:\u001b[0m\u001b[1;36m500\u001b[0m\u001b[1;33m]\u001b[0m\u001b[1;33m)\u001b[0m\u001b[1;33m)\u001b[0m\u001b[1;33m\u001b[0m\u001b[1;33m\u001b[0m\u001b[0m\n\u001b[0;32m      5\u001b[0m   \u001b[0mprint\u001b[0m\u001b[1;33m(\u001b[0m\u001b[1;33m)\u001b[0m\u001b[1;33m\u001b[0m\u001b[1;33m\u001b[0m\u001b[0m\n",
      "\u001b[1;31mNameError\u001b[0m: name 'tm' is not defined"
     ]
    }
   ],
   "source": [
    "for i, doc in enumerate(tm.recommend(text=rawtext, n=5)):\n",
    "  print('Result #%s'% (i+1))\n",
    "  print('Text \\n')\n",
    "  print(\" \".join(doc['text'].split()[:500]))\n",
    "  print()\n",
    "  "
   ]
  },
  {
   "cell_type": "code",
   "execution_count": null,
   "metadata": {},
   "outputs": [],
   "source": []
  }
 ],
 "metadata": {
  "interpreter": {
   "hash": "4f4ff589ffa097939cac0ad0d5ab93d4e0dcb24beff5de990fee8409606661b2"
  },
  "kernelspec": {
   "display_name": "Python 3.7.9 64-bit",
   "language": "python",
   "name": "python3"
  },
  "language_info": {
   "codemirror_mode": {
    "name": "ipython",
    "version": 3
   },
   "file_extension": ".py",
   "mimetype": "text/x-python",
   "name": "python",
   "nbconvert_exporter": "python",
   "pygments_lexer": "ipython3",
   "version": "3.7.9"
  },
  "orig_nbformat": 4
 },
 "nbformat": 4,
 "nbformat_minor": 2
}
